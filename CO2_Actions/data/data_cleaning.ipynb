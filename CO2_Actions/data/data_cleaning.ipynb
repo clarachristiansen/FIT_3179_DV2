{
 "cells": [
  {
   "cell_type": "code",
   "execution_count": 24,
   "metadata": {},
   "outputs": [],
   "source": [
    "import numpy as np\n",
    "import pandas as pd"
   ]
  },
  {
   "cell_type": "code",
   "execution_count": 25,
   "metadata": {},
   "outputs": [],
   "source": [
    "data = pd.read_csv('emission_per_month.csv')"
   ]
  },
  {
   "cell_type": "code",
   "execution_count": 26,
   "metadata": {},
   "outputs": [
    {
     "data": {
      "text/html": [
       "<div>\n",
       "<style scoped>\n",
       "    .dataframe tbody tr th:only-of-type {\n",
       "        vertical-align: middle;\n",
       "    }\n",
       "\n",
       "    .dataframe tbody tr th {\n",
       "        vertical-align: top;\n",
       "    }\n",
       "\n",
       "    .dataframe thead th {\n",
       "        text-align: right;\n",
       "    }\n",
       "</style>\n",
       "<table border=\"1\" class=\"dataframe\">\n",
       "  <thead>\n",
       "    <tr style=\"text-align: right;\">\n",
       "      <th></th>\n",
       "      <th>year</th>\n",
       "      <th>month</th>\n",
       "      <th>decimal date</th>\n",
       "      <th>average</th>\n",
       "      <th>deseasonalized</th>\n",
       "      <th>ndays</th>\n",
       "      <th>sdev</th>\n",
       "      <th>unc</th>\n",
       "    </tr>\n",
       "  </thead>\n",
       "  <tbody>\n",
       "    <tr>\n",
       "      <th>0</th>\n",
       "      <td>1960</td>\n",
       "      <td>1</td>\n",
       "      <td>1960.0410</td>\n",
       "      <td>316.43</td>\n",
       "      <td>316.40</td>\n",
       "      <td>-1</td>\n",
       "      <td>-9.99</td>\n",
       "      <td>-0.99</td>\n",
       "    </tr>\n",
       "    <tr>\n",
       "      <th>1</th>\n",
       "      <td>1960</td>\n",
       "      <td>2</td>\n",
       "      <td>1960.1257</td>\n",
       "      <td>316.98</td>\n",
       "      <td>316.36</td>\n",
       "      <td>-1</td>\n",
       "      <td>-9.99</td>\n",
       "      <td>-0.99</td>\n",
       "    </tr>\n",
       "    <tr>\n",
       "      <th>2</th>\n",
       "      <td>1960</td>\n",
       "      <td>3</td>\n",
       "      <td>1960.2049</td>\n",
       "      <td>317.58</td>\n",
       "      <td>316.28</td>\n",
       "      <td>-1</td>\n",
       "      <td>-9.99</td>\n",
       "      <td>-0.99</td>\n",
       "    </tr>\n",
       "    <tr>\n",
       "      <th>3</th>\n",
       "      <td>1960</td>\n",
       "      <td>4</td>\n",
       "      <td>1960.2896</td>\n",
       "      <td>319.03</td>\n",
       "      <td>316.70</td>\n",
       "      <td>-1</td>\n",
       "      <td>-9.99</td>\n",
       "      <td>-0.99</td>\n",
       "    </tr>\n",
       "    <tr>\n",
       "      <th>4</th>\n",
       "      <td>1960</td>\n",
       "      <td>5</td>\n",
       "      <td>1960.3716</td>\n",
       "      <td>320.04</td>\n",
       "      <td>317.22</td>\n",
       "      <td>-1</td>\n",
       "      <td>-9.99</td>\n",
       "      <td>-0.99</td>\n",
       "    </tr>\n",
       "  </tbody>\n",
       "</table>\n",
       "</div>"
      ],
      "text/plain": [
       "   year  month  decimal date  average  deseasonalized  ndays  sdev   unc\n",
       "0  1960      1     1960.0410   316.43          316.40     -1 -9.99 -0.99\n",
       "1  1960      2     1960.1257   316.98          316.36     -1 -9.99 -0.99\n",
       "2  1960      3     1960.2049   317.58          316.28     -1 -9.99 -0.99\n",
       "3  1960      4     1960.2896   319.03          316.70     -1 -9.99 -0.99\n",
       "4  1960      5     1960.3716   320.04          317.22     -1 -9.99 -0.99"
      ]
     },
     "execution_count": 26,
     "metadata": {},
     "output_type": "execute_result"
    }
   ],
   "source": [
    "data.head()"
   ]
  },
  {
   "cell_type": "code",
   "execution_count": 27,
   "metadata": {},
   "outputs": [],
   "source": [
    "date = []\n",
    "CO2 = []\n",
    "for i in data.index:\n",
    "    if len(str(data['month'][i])) < 2:\n",
    "        date_string = str(data['year'][i]) +\"-0\"+ str(data['month'][i]) + \"-01\"\n",
    "    else:\n",
    "        date_string = str(data['year'][i]) +\"-\"+ str(data['month'][i]) + \"-01\"\n",
    "    date.append(date_string)\n",
    "    CO2.append(data['average'][i])\n"
   ]
  },
  {
   "cell_type": "code",
   "execution_count": 28,
   "metadata": {},
   "outputs": [],
   "source": [
    "new_data = pd.DataFrame({'Date':date, 'CO2':CO2})"
   ]
  },
  {
   "cell_type": "code",
   "execution_count": 29,
   "metadata": {},
   "outputs": [],
   "source": [
    "new_data.to_csv('emission_per_month_cleaned.csv')"
   ]
  }
 ],
 "metadata": {
  "kernelspec": {
   "display_name": "Barbie_project",
   "language": "python",
   "name": "python3"
  },
  "language_info": {
   "codemirror_mode": {
    "name": "ipython",
    "version": 3
   },
   "file_extension": ".py",
   "mimetype": "text/x-python",
   "name": "python",
   "nbconvert_exporter": "python",
   "pygments_lexer": "ipython3",
   "version": "3.11.4"
  },
  "orig_nbformat": 4
 },
 "nbformat": 4,
 "nbformat_minor": 2
}
