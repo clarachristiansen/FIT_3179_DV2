{
 "cells": [
  {
   "cell_type": "code",
   "execution_count": 1,
   "metadata": {},
   "outputs": [],
   "source": [
    "import numpy as np\n",
    "import pandas as pd\n",
    "import math"
   ]
  },
  {
   "cell_type": "code",
   "execution_count": 2,
   "metadata": {},
   "outputs": [],
   "source": [
    "data = pd.read_csv('ice_data.csv')"
   ]
  },
  {
   "cell_type": "code",
   "execution_count": 3,
   "metadata": {},
   "outputs": [
    {
     "data": {
      "text/html": [
       "<div>\n",
       "<style scoped>\n",
       "    .dataframe tbody tr th:only-of-type {\n",
       "        vertical-align: middle;\n",
       "    }\n",
       "\n",
       "    .dataframe tbody tr th {\n",
       "        vertical-align: top;\n",
       "    }\n",
       "\n",
       "    .dataframe thead th {\n",
       "        text-align: right;\n",
       "    }\n",
       "</style>\n",
       "<table border=\"1\" class=\"dataframe\">\n",
       "  <thead>\n",
       "    <tr style=\"text-align: right;\">\n",
       "      <th></th>\n",
       "      <th>Year</th>\n",
       "      <th>1YI</th>\n",
       "      <th>2YI</th>\n",
       "      <th>3YI</th>\n",
       "      <th>4YI</th>\n",
       "      <th>5+YI</th>\n",
       "    </tr>\n",
       "  </thead>\n",
       "  <tbody>\n",
       "    <tr>\n",
       "      <th>0</th>\n",
       "      <td>1984</td>\n",
       "      <td>468341.9189</td>\n",
       "      <td>284171.1890</td>\n",
       "      <td>240927.7472</td>\n",
       "      <td>233205.7040</td>\n",
       "      <td>8.127450e+05</td>\n",
       "    </tr>\n",
       "    <tr>\n",
       "      <th>1</th>\n",
       "      <td>1985</td>\n",
       "      <td>427028.9879</td>\n",
       "      <td>329345.1416</td>\n",
       "      <td>241699.9515</td>\n",
       "      <td>215058.9026</td>\n",
       "      <td>9.119733e+05</td>\n",
       "    </tr>\n",
       "    <tr>\n",
       "      <th>2</th>\n",
       "      <td>1986</td>\n",
       "      <td>553284.3938</td>\n",
       "      <td>237452.8278</td>\n",
       "      <td>259846.7530</td>\n",
       "      <td>194981.5903</td>\n",
       "      <td>9.459503e+05</td>\n",
       "    </tr>\n",
       "    <tr>\n",
       "      <th>3</th>\n",
       "      <td>1987</td>\n",
       "      <td>440928.6656</td>\n",
       "      <td>297684.7646</td>\n",
       "      <td>192278.8752</td>\n",
       "      <td>223553.1501</td>\n",
       "      <td>9.934409e+05</td>\n",
       "    </tr>\n",
       "    <tr>\n",
       "      <th>4</th>\n",
       "      <td>1988</td>\n",
       "      <td>675678.7783</td>\n",
       "      <td>220850.4349</td>\n",
       "      <td>209267.3702</td>\n",
       "      <td>153668.6593</td>\n",
       "      <td>1.070661e+06</td>\n",
       "    </tr>\n",
       "  </tbody>\n",
       "</table>\n",
       "</div>"
      ],
      "text/plain": [
       "   Year          1YI          2YI          3YI          4YI          5+YI\n",
       "0  1984  468341.9189  284171.1890  240927.7472  233205.7040  8.127450e+05\n",
       "1  1985  427028.9879  329345.1416  241699.9515  215058.9026  9.119733e+05\n",
       "2  1986  553284.3938  237452.8278  259846.7530  194981.5903  9.459503e+05\n",
       "3  1987  440928.6656  297684.7646  192278.8752  223553.1501  9.934409e+05\n",
       "4  1988  675678.7783  220850.4349  209267.3702  153668.6593  1.070661e+06"
      ]
     },
     "execution_count": 3,
     "metadata": {},
     "output_type": "execute_result"
    }
   ],
   "source": [
    "data.head()"
   ]
  },
  {
   "cell_type": "code",
   "execution_count": 4,
   "metadata": {},
   "outputs": [
    {
     "data": {
      "text/plain": [
       "5"
      ]
     },
     "execution_count": 4,
     "metadata": {},
     "output_type": "execute_result"
    }
   ],
   "source": [
    "len(data.columns[1:])"
   ]
  },
  {
   "cell_type": "code",
   "execution_count": 12,
   "metadata": {},
   "outputs": [],
   "source": [
    "names = [\"1-year ice\", \"2-year ice\", \"3-year ice\", \"4-year ice\", \"5+ year ice\"]\n",
    "with open('data.txt', 'w') as f:\n",
    "    for col in range(len(data.columns[1:])):\n",
    "        for i in data.index:\n",
    "            year = data[\"Year\"][i]\n",
    "            colname = data.columns[1:][col]\n",
    "            value = data[colname][i] / 1000000\n",
    "            string = '{\"series\": \"' + names[col] + '\", \"year\":' + str(year) + ', \"count\":' + str(value) + ', \"date\":' + '\"' + str(year) + '-01-01T08:00:00.000Z\"' + '},\\n'\n",
    "            f.write(string)\n",
    "\n"
   ]
  },
  {
   "cell_type": "code",
   "execution_count": 13,
   "metadata": {},
   "outputs": [
    {
     "data": {
      "text/plain": [
       "Index(['1YI', '2YI', '3YI', '4YI', '5+YI'], dtype='object')"
      ]
     },
     "execution_count": 13,
     "metadata": {},
     "output_type": "execute_result"
    }
   ],
   "source": [
    "data.columns[1:]"
   ]
  },
  {
   "cell_type": "code",
   "execution_count": null,
   "metadata": {},
   "outputs": [],
   "source": []
  }
 ],
 "metadata": {
  "kernelspec": {
   "display_name": "Barbie_project",
   "language": "python",
   "name": "python3"
  },
  "language_info": {
   "codemirror_mode": {
    "name": "ipython",
    "version": 3
   },
   "file_extension": ".py",
   "mimetype": "text/x-python",
   "name": "python",
   "nbconvert_exporter": "python",
   "pygments_lexer": "ipython3",
   "version": "3.11.4"
  },
  "orig_nbformat": 4
 },
 "nbformat": 4,
 "nbformat_minor": 2
}
